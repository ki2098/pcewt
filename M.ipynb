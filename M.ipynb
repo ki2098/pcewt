{
 "cells": [
  {
   "cell_type": "code",
   "execution_count": 19,
   "id": "305b0140",
   "metadata": {},
   "outputs": [],
   "source": [
    "import numpy as np\n",
    "import chaospy"
   ]
  },
  {
   "cell_type": "code",
   "execution_count": 20,
   "id": "afb88fff",
   "metadata": {},
   "outputs": [
    {
     "data": {
      "text/plain": [
       "polynomial([1.0, q0, q0**2-1.0, q0**3-3.0*q0, q0**4-6.0*q0**2+3.0,\n",
       "            q0**5-10.0*q0**3+15.0*q0])"
      ]
     },
     "execution_count": 20,
     "metadata": {},
     "output_type": "execute_result"
    }
   ],
   "source": [
    "normal = chaospy.Normal()\n",
    "psi = chaospy.generate_expansion(5, normal)\n",
    "psi"
   ]
  },
  {
   "cell_type": "code",
   "execution_count": 21,
   "id": "6d9a2915",
   "metadata": {},
   "outputs": [
    {
     "data": {
      "text/plain": [
       "np.float64(600.0)"
      ]
     },
     "execution_count": 21,
     "metadata": {},
     "output_type": "execute_result"
    }
   ],
   "source": [
    "(chaospy.E(psi[5]*psi[5]*psi[4], normal)/chaospy.E(psi[4]*psi[4], normal)).round(5)"
   ]
  },
  {
   "cell_type": "code",
   "execution_count": 22,
   "id": "125f3a33",
   "metadata": {},
   "outputs": [],
   "source": [
    "import math"
   ]
  },
  {
   "cell_type": "code",
   "execution_count": 23,
   "id": "eedd9620",
   "metadata": {},
   "outputs": [],
   "source": [
    "i = 5\n",
    "j = 5\n",
    "k = 4\n",
    "s = (i + j + k)//2"
   ]
  },
  {
   "cell_type": "code",
   "execution_count": 24,
   "id": "ba86ea5b",
   "metadata": {},
   "outputs": [
    {
     "data": {
      "text/plain": [
       "600.0"
      ]
     },
     "execution_count": 24,
     "metadata": {},
     "output_type": "execute_result"
    }
   ],
   "source": [
    "(math.factorial(i)*math.factorial(j)*math.factorial(k)/(math.factorial(s - i)*math.factorial(s - j)*math.factorial(s - k)))/math.factorial(k)"
   ]
  },
  {
   "cell_type": "code",
   "execution_count": null,
   "id": "2e4361e3",
   "metadata": {},
   "outputs": [],
   "source": []
  }
 ],
 "metadata": {
  "kernelspec": {
   "display_name": "mypy",
   "language": "python",
   "name": "python3"
  },
  "language_info": {
   "codemirror_mode": {
    "name": "ipython",
    "version": 3
   },
   "file_extension": ".py",
   "mimetype": "text/x-python",
   "name": "python",
   "nbconvert_exporter": "python",
   "pygments_lexer": "ipython3",
   "version": "3.12.3"
  }
 },
 "nbformat": 4,
 "nbformat_minor": 5
}
