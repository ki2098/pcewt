{
 "cells": [
  {
   "cell_type": "code",
   "execution_count": 1,
   "id": "305b0140",
   "metadata": {},
   "outputs": [],
   "source": [
    "import numpy as np\n",
    "import chaospy"
   ]
  },
  {
   "cell_type": "code",
   "execution_count": 2,
   "id": "afb88fff",
   "metadata": {},
   "outputs": [
    {
     "data": {
      "text/plain": [
       "polynomial([1.0, q0, q0**2-1.0, q0**3-3.0*q0, q0**4-6.0*q0**2+3.0,\n",
       "            q0**5-10.0*q0**3+15.0*q0])"
      ]
     },
     "execution_count": 2,
     "metadata": {},
     "output_type": "execute_result"
    }
   ],
   "source": [
    "normal = chaospy.Normal()\n",
    "psi = chaospy.generate_expansion(5, normal)\n",
    "psi"
   ]
  },
  {
   "cell_type": "code",
   "execution_count": 3,
   "id": "6d9a2915",
   "metadata": {},
   "outputs": [
    {
     "data": {
      "text/plain": [
       "np.float64(600.0)"
      ]
     },
     "execution_count": 3,
     "metadata": {},
     "output_type": "execute_result"
    }
   ],
   "source": [
    "(chaospy.E(psi[5]*psi[5]*psi[4], normal)/chaospy.E(psi[4]*psi[4], normal)).round(5)"
   ]
  },
  {
   "cell_type": "code",
   "execution_count": 4,
   "id": "2e4361e3",
   "metadata": {},
   "outputs": [
    {
     "data": {
      "text/plain": [
       "array(24.)"
      ]
     },
     "execution_count": 4,
     "metadata": {},
     "output_type": "execute_result"
    }
   ],
   "source": [
    "chaospy.E(psi[4]*psi[4], normal)"
   ]
  }
 ],
 "metadata": {
  "kernelspec": {
   "display_name": "mypy",
   "language": "python",
   "name": "python3"
  },
  "language_info": {
   "codemirror_mode": {
    "name": "ipython",
    "version": 3
   },
   "file_extension": ".py",
   "mimetype": "text/x-python",
   "name": "python",
   "nbconvert_exporter": "python",
   "pygments_lexer": "ipython3",
   "version": "3.12.3"
  }
 },
 "nbformat": 4,
 "nbformat_minor": 5
}
