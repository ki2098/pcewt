{
 "cells": [
  {
   "cell_type": "code",
   "execution_count": 1,
   "id": "964b55fb",
   "metadata": {},
   "outputs": [],
   "source": [
    "import sympy as sp\n",
    "import numpy as np"
   ]
  },
  {
   "cell_type": "code",
   "execution_count": 3,
   "id": "3a41d8aa",
   "metadata": {},
   "outputs": [],
   "source": [
    "h = sp.Symbol('h')"
   ]
  },
  {
   "cell_type": "code",
   "execution_count": 5,
   "id": "d9598570",
   "metadata": {},
   "outputs": [
    {
     "data": {
      "text/latex": [
       "$\\displaystyle \\left[\\begin{matrix}1 & - \\frac{3 h}{2} & \\frac{9 h}{8} & - \\frac{9 h}{16}\\\\1 & - \\frac{h}{2} & \\frac{h}{8} & - \\frac{h}{48}\\\\1 & \\frac{h}{2} & \\frac{h}{8} & \\frac{h}{48}\\\\1 & \\frac{3 h}{2} & \\frac{9 h}{8} & \\frac{9 h}{16}\\end{matrix}\\right]$"
      ],
      "text/plain": [
       "Matrix([\n",
       "[1, -3*h/2, 9*h/8, -9*h/16],\n",
       "[1,   -h/2,   h/8,   -h/48],\n",
       "[1,    h/2,   h/8,    h/48],\n",
       "[1,  3*h/2, 9*h/8,  9*h/16]])"
      ]
     },
     "execution_count": 5,
     "metadata": {},
     "output_type": "execute_result"
    }
   ],
   "source": [
    "A = sp.Matrix([\n",
    "    [1, sp.Rational(-3, 2)*h, sp.Rational(9, 8)*h, sp.Rational(-27, 48)*h],\n",
    "    [1, sp.Rational(-1, 2)*h, sp.Rational(1, 8)*h, sp.Rational(- 1, 48)*h],\n",
    "    [1, sp.Rational( 1, 2)*h, sp.Rational(1, 8)*h, sp.Rational(  1, 48)*h],\n",
    "    [1, sp.Rational( 3, 2)*h, sp.Rational(9, 8)*h, sp.Rational( 27, 48)*h]\n",
    "])\n",
    "A"
   ]
  },
  {
   "cell_type": "code",
   "execution_count": 6,
   "id": "6c33c8d5",
   "metadata": {},
   "outputs": [
    {
     "data": {
      "text/latex": [
       "$\\displaystyle \\left[\\begin{matrix}- \\frac{1}{16} & \\frac{9}{16} & \\frac{9}{16} & - \\frac{1}{16}\\\\\\frac{1}{24 h} & - \\frac{9}{8 h} & \\frac{9}{8 h} & - \\frac{1}{24 h}\\\\\\frac{1}{2 h} & - \\frac{1}{2 h} & - \\frac{1}{2 h} & \\frac{1}{2 h}\\\\- \\frac{1}{h} & \\frac{3}{h} & - \\frac{3}{h} & \\frac{1}{h}\\end{matrix}\\right]$"
      ],
      "text/plain": [
       "Matrix([\n",
       "[   -1/16,     9/16,     9/16,     -1/16],\n",
       "[1/(24*h), -9/(8*h),  9/(8*h), -1/(24*h)],\n",
       "[ 1/(2*h), -1/(2*h), -1/(2*h),   1/(2*h)],\n",
       "[    -1/h,      3/h,     -3/h,       1/h]])"
      ]
     },
     "execution_count": 6,
     "metadata": {},
     "output_type": "execute_result"
    }
   ],
   "source": [
    "A.inv()"
   ]
  },
  {
   "cell_type": "code",
   "execution_count": null,
   "id": "e9b583be",
   "metadata": {},
   "outputs": [],
   "source": []
  }
 ],
 "metadata": {
  "kernelspec": {
   "display_name": "mypy",
   "language": "python",
   "name": "python3"
  },
  "language_info": {
   "codemirror_mode": {
    "name": "ipython",
    "version": 3
   },
   "file_extension": ".py",
   "mimetype": "text/x-python",
   "name": "python",
   "nbconvert_exporter": "python",
   "pygments_lexer": "ipython3",
   "version": "3.12.3"
  }
 },
 "nbformat": 4,
 "nbformat_minor": 5
}
