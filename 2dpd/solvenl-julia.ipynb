{
 "cells": [
  {
   "cell_type": "code",
   "execution_count": 996,
   "id": "087c407e",
   "metadata": {},
   "outputs": [],
   "source": [
    "using PolyChaos\n",
    "using NLsolve\n",
    "using LinearAlgebra"
   ]
  },
  {
   "cell_type": "code",
   "execution_count": 997,
   "id": "771f1659",
   "metadata": {},
   "outputs": [
    {
     "data": {
      "text/plain": [
       "6×6×6 Array{Float64, 3}:\n",
       "[:, :, 1] =\n",
       " 1.0  0.0  0.0  0.0   0.0    0.0\n",
       " 0.0  1.0  0.0  0.0   0.0    0.0\n",
       " 0.0  0.0  2.0  0.0   0.0    0.0\n",
       " 0.0  0.0  0.0  6.0   0.0    0.0\n",
       " 0.0  0.0  0.0  0.0  24.0    0.0\n",
       " 0.0  0.0  0.0  0.0   0.0  120.0\n",
       "\n",
       "[:, :, 2] =\n",
       " 0.0  1.0  0.0   0.0    0.0    0.0\n",
       " 1.0  0.0  2.0   0.0    0.0    0.0\n",
       " 0.0  2.0  0.0   6.0    0.0    0.0\n",
       " 0.0  0.0  6.0   0.0   24.0    0.0\n",
       " 0.0  0.0  0.0  24.0    0.0  120.0\n",
       " 0.0  0.0  0.0   0.0  120.0    0.0\n",
       "\n",
       "[:, :, 3] =\n",
       " 0.0  0.0   2.0    0.0    0.0     0.0\n",
       " 0.0  2.0   0.0    6.0    0.0     0.0\n",
       " 2.0  0.0   8.0    0.0   24.0     0.0\n",
       " 0.0  6.0   0.0   36.0    0.0   120.0\n",
       " 0.0  0.0  24.0    0.0  192.0     0.0\n",
       " 0.0  0.0   0.0  120.0    0.0  1200.0\n",
       "\n",
       "[:, :, 4] =\n",
       " 0.0   0.0    0.0    6.0     0.0     0.0\n",
       " 0.0   0.0    6.0    0.0    24.0     0.0\n",
       " 0.0   6.0    0.0   36.0     0.0   120.0\n",
       " 6.0   0.0   36.0    0.0   216.0     0.0\n",
       " 0.0  24.0    0.0  216.0     0.0  1440.0\n",
       " 0.0   0.0  120.0    0.0  1440.0     0.0\n",
       "\n",
       "[:, :, 5] =\n",
       "  0.0    0.0    0.0     0.0    24.0      0.0\n",
       "  0.0    0.0    0.0    24.0     0.0    120.0\n",
       "  0.0    0.0   24.0     0.0   192.0      0.0\n",
       "  0.0   24.0    0.0   216.0     0.0   1440.0\n",
       " 24.0    0.0  192.0     0.0  1728.0      0.0\n",
       "  0.0  120.0    0.0  1440.0     0.0  14400.0\n",
       "\n",
       "[:, :, 6] =\n",
       "   0.0    0.0     0.0     0.0      0.0    120.0\n",
       "   0.0    0.0     0.0     0.0    120.0      0.0\n",
       "   0.0    0.0     0.0   120.0      0.0   1200.0\n",
       "   0.0    0.0   120.0     0.0   1440.0      0.0\n",
       "   0.0  120.0     0.0  1440.0      0.0  14400.0\n",
       " 120.0    0.0  1200.0     0.0  14400.0      0.0"
      ]
     },
     "metadata": {},
     "output_type": "display_data"
    }
   ],
   "source": [
    "P = 5\n",
    "op = GaussOrthoPoly(P, Nrec=100, addQuadrature=true)\n",
    "t3 = Tensor(3, op)\n",
    "M = [t3.get([i, j, k]) for i=0:P, j=0:P, k=0:P]"
   ]
  },
  {
   "cell_type": "code",
   "execution_count": 998,
   "id": "0a987a95",
   "metadata": {},
   "outputs": [
    {
     "data": {
      "text/plain": [
       "6-element Vector{Float64}:\n",
       " -0.7923558717887956\n",
       "  0.43916116106907216\n",
       "  0.6259533539778089\n",
       " -0.7149548108102166\n",
       "  1.1539068842427276\n",
       "  0.4187212436423394"
      ]
     },
     "metadata": {},
     "output_type": "display_data"
    }
   ],
   "source": [
    "b = randn(P+1)\n",
    "c = randn(P+1)"
   ]
  },
  {
   "cell_type": "code",
   "execution_count": 999,
   "id": "95066830",
   "metadata": {},
   "outputs": [
    {
     "data": {
      "text/plain": [
       "6-element Vector{Float64}:\n",
       "   147.15916411781348\n",
       "   121.01067223053505\n",
       "  1093.373844007278\n",
       "  1870.5351628291885\n",
       " 11871.082149180062\n",
       " 20164.296069853335"
      ]
     },
     "metadata": {},
     "output_type": "display_data"
    }
   ],
   "source": [
    "d = zeros(P+1)\n",
    "for k in 1:P+1\n",
    "    for i in 1:P+1\n",
    "        for j in 1:P+1\n",
    "            d[k] += (b[i]*b[j] + c[i]*c[j])*M[i, j, k]\n",
    "        end\n",
    "    end\n",
    "end\n",
    "d"
   ]
  },
  {
   "cell_type": "code",
   "execution_count": 1000,
   "id": "7869597f",
   "metadata": {},
   "outputs": [
    {
     "data": {
      "text/plain": [
       "F! (generic function with 1 method)"
      ]
     },
     "metadata": {},
     "output_type": "display_data"
    }
   ],
   "source": [
    "function F!(F, a)\n",
    "    for k in 1:P+1\n",
    "        F[k] = 0.0\n",
    "        for i in 1:P+1\n",
    "            for j in 1:P+1\n",
    "                F[k] += a[i]*a[j]*M[i, j, k]\n",
    "            end\n",
    "        end\n",
    "        F[k] -= d[k]\n",
    "    end\n",
    "end"
   ]
  },
  {
   "cell_type": "code",
   "execution_count": 1001,
   "id": "4a305888",
   "metadata": {},
   "outputs": [
    {
     "data": {
      "text/plain": [
       "j! (generic function with 1 method)"
      ]
     },
     "metadata": {},
     "output_type": "display_data"
    }
   ],
   "source": [
    "function j!(J, a)\n",
    "    for k in 1:P+1\n",
    "        for i in 1:P+1\n",
    "            J[k, i] = 0.0\n",
    "            for j in 1:P+1\n",
    "                J[k, i] += a[j]*(M[i, j, k] + M[j, i, k])\n",
    "            end\n",
    "        end\n",
    "    end\n",
    "end"
   ]
  },
  {
   "cell_type": "code",
   "execution_count": 1002,
   "id": "ba090900",
   "metadata": {},
   "outputs": [
    {
     "data": {
      "text/plain": [
       "6-element Vector{Float64}:\n",
       " 1.3230267406990166\n",
       " 0.5528380618920514\n",
       " 0.7190751879271404\n",
       " 1.2603296861423263\n",
       " 1.2140109681245355\n",
       " 0.9090593469014987"
      ]
     },
     "metadata": {},
     "output_type": "display_data"
    }
   ],
   "source": [
    "a0 = sqrt.(b.^2 + c.^2)"
   ]
  },
  {
   "cell_type": "code",
   "execution_count": 1003,
   "id": "a53753ab",
   "metadata": {},
   "outputs": [
    {
     "data": {
      "text/plain": [
       "Results of Nonlinear Solver Algorithm\n",
       " * Algorithm: Trust-region with dogleg and autoscaling\n",
       " * Starting Point: [1.3230267406990166, 0.5528380618920514, 0.7190751879271404, 1.2603296861423263, 1.2140109681245355, 0.9090593469014987]\n",
       " * Zero: [6.301891097714429, 0.31647928451739993, 2.248435280800496, -0.10680784527413897, 0.5804899838780163, 0.8615807020668379]\n",
       " * Inf-norm of residuals: 0.000000\n",
       " * Iterations: 9\n",
       " * Convergence: true\n",
       "   * |x - x'| < 0.0e+00: false\n",
       "   * |f(x)| < 1.0e-08: true\n",
       " * Function Calls (f): 10\n",
       " * Jacobian Calls (df/dx): 10"
      ]
     },
     "metadata": {},
     "output_type": "display_data"
    }
   ],
   "source": [
    "sol = nlsolve(F!, j!, a0)"
   ]
  },
  {
   "cell_type": "code",
   "execution_count": 1004,
   "id": "c56d2ab7",
   "metadata": {},
   "outputs": [
    {
     "data": {
      "text/plain": [
       "6-element Vector{Float64}:\n",
       "  6.301891097714429\n",
       "  0.31647928451739993\n",
       "  2.248435280800496\n",
       " -0.10680784527413897\n",
       "  0.5804899838780163\n",
       "  0.8615807020668379"
      ]
     },
     "metadata": {},
     "output_type": "display_data"
    }
   ],
   "source": [
    "sol.zero"
   ]
  },
  {
   "cell_type": "code",
   "execution_count": 1005,
   "id": "880822db",
   "metadata": {},
   "outputs": [],
   "source": []
  }
 ],
 "metadata": {
  "kernelspec": {
   "display_name": "Julia 1.11.6",
   "language": "julia",
   "name": "julia-1.11"
  },
  "language_info": {
   "file_extension": ".jl",
   "mimetype": "application/julia",
   "name": "julia",
   "version": "1.11.6"
  }
 },
 "nbformat": 4,
 "nbformat_minor": 5
}
