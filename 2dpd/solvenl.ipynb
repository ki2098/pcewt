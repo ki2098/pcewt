{
 "cells": [
  {
   "cell_type": "code",
   "execution_count": 285,
   "id": "e02bed1c",
   "metadata": {},
   "outputs": [],
   "source": [
    "import numpy as np\n",
    "from scipy import optimize\n",
    "import chaospy as chaos"
   ]
  },
  {
   "cell_type": "code",
   "execution_count": 286,
   "id": "9d03e26b",
   "metadata": {},
   "outputs": [
    {
     "data": {
      "text/plain": [
       "polynomial([1.0, q0, q0**2-1.0, q0**3-3.0*q0, q0**4-6.0*q0**2+3.0,\n",
       "            q0**5-10.0*q0**3+15.0*q0])"
      ]
     },
     "execution_count": 286,
     "metadata": {},
     "output_type": "execute_result"
    }
   ],
   "source": [
    "P = 5\n",
    "normal = chaos.Normal()\n",
    "psi = chaos.generate_expansion(P, normal)\n",
    "psi"
   ]
  },
  {
   "cell_type": "code",
   "execution_count": 287,
   "id": "6badb28e",
   "metadata": {},
   "outputs": [
    {
     "data": {
      "text/plain": [
       "array([0.8111365 , 0.7672953 , 0.73081686, 0.17563572, 0.86442534,\n",
       "       0.41598064])"
      ]
     },
     "execution_count": 287,
     "metadata": {},
     "output_type": "execute_result"
    }
   ],
   "source": [
    "M = np.zeros((P+1,P+1,P+1))\n",
    "b = np.random.rand(P+1)\n",
    "c = np.random.rand(P+1)\n",
    "c"
   ]
  },
  {
   "cell_type": "code",
   "execution_count": 288,
   "id": "85f138b5",
   "metadata": {},
   "outputs": [],
   "source": [
    "for i in range(P+1):\n",
    "    for j in range(P+1):\n",
    "        for k in range(P+1):\n",
    "            M[i, j, k] = chaos.E(psi[i]*psi[j]*psi[k], normal).round(5)"
   ]
  },
  {
   "cell_type": "code",
   "execution_count": 289,
   "id": "3b14ba18",
   "metadata": {},
   "outputs": [
    {
     "data": {
      "text/plain": [
       "array([  103.17535743,   259.95067017,  1087.84754253,  3079.54912399,\n",
       "       11854.33054197, 29219.03884349])"
      ]
     },
     "execution_count": 289,
     "metadata": {},
     "output_type": "execute_result"
    }
   ],
   "source": [
    "d = np.zeros(P+1)\n",
    "for k in range(P+1):\n",
    "    for i in range(P+1):\n",
    "        for j in range(P+1):\n",
    "            d[k] += (b[i]*b[j] + c[i]*c[j])*M[i, j, k]\n",
    "d"
   ]
  },
  {
   "cell_type": "code",
   "execution_count": 290,
   "id": "b8a52cde",
   "metadata": {},
   "outputs": [],
   "source": [
    "def residual(a):\n",
    "    res = np.zeros(P+1)\n",
    "    for k in range(P+1):\n",
    "        for i in range(P+1):\n",
    "            for j in range(P+1):\n",
    "                res[k] += a[i]*a[j]*M[i, j, k]\n",
    "        res[k] -= d[k]\n",
    "    return res"
   ]
  },
  {
   "cell_type": "code",
   "execution_count": 291,
   "id": "39b0c751",
   "metadata": {},
   "outputs": [
    {
     "data": {
      "text/plain": [
       "array([0.88627644, 0.77002411, 0.76987555, 0.79989879, 1.26710783,\n",
       "       0.69665268])"
      ]
     },
     "execution_count": 291,
     "metadata": {},
     "output_type": "execute_result"
    }
   ],
   "source": [
    "a0 = np.sqrt(b**2 + c**2)\n",
    "a0"
   ]
  },
  {
   "cell_type": "code",
   "execution_count": 292,
   "id": "252bb8b2",
   "metadata": {},
   "outputs": [],
   "source": [
    "sol = optimize.root(residual, a0)"
   ]
  },
  {
   "cell_type": "code",
   "execution_count": 293,
   "id": "ffcb3885",
   "metadata": {},
   "outputs": [
    {
     "data": {
      "text/plain": [
       "True"
      ]
     },
     "execution_count": 293,
     "metadata": {},
     "output_type": "execute_result"
    }
   ],
   "source": [
    "sol.success"
   ]
  },
  {
   "cell_type": "code",
   "execution_count": 294,
   "id": "16f32fea",
   "metadata": {},
   "outputs": [
    {
     "data": {
      "text/plain": [
       "array([ 1.89353243, -0.08793878,  0.7746328 ,  0.81596606,  1.224443  ,\n",
       "        0.69764478])"
      ]
     },
     "execution_count": 294,
     "metadata": {},
     "output_type": "execute_result"
    }
   ],
   "source": [
    "a = sol.x\n",
    "a"
   ]
  },
  {
   "cell_type": "code",
   "execution_count": null,
   "id": "9c919642",
   "metadata": {},
   "outputs": [],
   "source": []
  }
 ],
 "metadata": {
  "kernelspec": {
   "display_name": "mypy",
   "language": "python",
   "name": "python3"
  },
  "language_info": {
   "codemirror_mode": {
    "name": "ipython",
    "version": 3
   },
   "file_extension": ".py",
   "mimetype": "text/x-python",
   "name": "python",
   "nbconvert_exporter": "python",
   "pygments_lexer": "ipython3",
   "version": "3.12.3"
  }
 },
 "nbformat": 4,
 "nbformat_minor": 5
}
